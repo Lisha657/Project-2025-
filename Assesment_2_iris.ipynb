{
  "nbformat": 4,
  "nbformat_minor": 0,
  "metadata": {
    "colab": {
      "provenance": []
    },
    "kernelspec": {
      "name": "python3",
      "display_name": "Python 3"
    },
    "language_info": {
      "name": "python"
    }
  },
  "cells": [
    {
      "cell_type": "code",
      "execution_count": null,
      "metadata": {
        "colab": {
          "base_uri": "https://localhost:8080/"
        },
        "id": "JTOGUNQOJalk",
        "outputId": "bdf8f75b-cc59-4903-a99e-d70c7be5ee3c"
      },
      "outputs": [
        {
          "output_type": "stream",
          "name": "stdout",
          "text": [
            "Accuracy: 1.0\n",
            "\n",
            "Classification Report:\n",
            "              precision    recall  f1-score   support\n",
            "\n",
            "      setosa       1.00      1.00      1.00        10\n",
            "  versicolor       1.00      1.00      1.00         9\n",
            "   virginica       1.00      1.00      1.00        11\n",
            "\n",
            "    accuracy                           1.00        30\n",
            "   macro avg       1.00      1.00      1.00        30\n",
            "weighted avg       1.00      1.00      1.00        30\n",
            "\n",
            "\n",
            "Predicted Class Probabilities (first 5 rows):\n",
            "          setosa    versicolor     virginica\n",
            "0   5.973274e-90  9.956358e-01  4.364233e-03\n",
            "1   1.000000e+00  4.961581e-14  6.549224e-21\n",
            "2  7.318903e-290  4.929476e-12  1.000000e+00\n",
            "3   2.818425e-94  9.775936e-01  2.240644e-02\n",
            "4  1.138778e-105  8.700226e-01  1.299774e-01\n"
          ]
        }
      ],
      "source": [
        "from sklearn.datasets import load_iris\n",
        "from sklearn.model_selection import train_test_split\n",
        "from sklearn.naive_bayes import GaussianNB\n",
        "from sklearn.metrics import accuracy_score, classification_report\n",
        "import pandas as pd\n",
        "\n",
        "# Load the Iris dataset\n",
        "iris = load_iris()\n",
        "X = iris.data\n",
        "y = iris.target\n",
        "\n",
        "# Split into training and testing sets (80% train, 20% test)\n",
        "X_train, X_test, y_train, y_test = train_test_split(X, y, test_size=0.2, random_state=42)\n",
        "\n",
        "# Create and train the Gaussian Naive Bayes model\n",
        "model = GaussianNB()\n",
        "model.fit(X_train, y_train)\n",
        "\n",
        "# Predict the classes\n",
        "y_pred = model.predict(X_test)\n",
        "\n",
        "# Predict the class probabilities\n",
        "y_proba = model.predict_proba(X_test)\n",
        "\n",
        "# Accuracy score\n",
        "accuracy = accuracy_score(y_test, y_pred)\n",
        "print(\"Accuracy:\", accuracy)\n",
        "\n",
        "# Classification report\n",
        "print(\"\\nClassification Report:\")\n",
        "print(classification_report(y_test, y_pred, target_names=iris.target_names))\n",
        "\n",
        "# Show predicted probabilities for each class\n",
        "print(\"\\nPredicted Class Probabilities (first 5 rows):\")\n",
        "print(pd.DataFrame(y_proba[:5], columns=iris.target_names))\n"
      ]
    }
  ]
}